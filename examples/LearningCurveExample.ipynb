{
 "cells": [
  {
   "attachments": {},
   "cell_type": "markdown",
   "id": "01cdb575",
   "metadata": {},
   "source": [
    "# Calculating Offshore Wind Learning Curves Using the FORCE Model <br />\n",
    "### Background <br />\n",
    "Learning curves describe cost reductions associated with producing more of a <br />\n",
    "particular good or service. They are observed empirically for any form of <br />\n",
    "industrial production. We can derive a fixed-bottom offshore learning curve <br />\n",
    "from historical project CapEx data and use it to forecast future costs by <br />\n",
    "making several assumptions including: <br />\n",
    "- Industrial learning will continue at the same rate as observed in historical <br />\n",
    "data. Learning rates describe the percentage cost reduction for every doubling <br />\n",
    "of production (in this case global installed fixed-bottom offshore wind <br />\n",
    "capacity) <br />\n",
    "- To calculate cost reductions over time, we need estimates of global offshore <br />\n",
    "wind deployment (specified in MW) for both current and future years. <br />\n",
    "- Finally we also need an estimate of current offshore wind CapEx costs. <br />\n",
    "<br />\n",
    "For additional information, see Shields et al. (2021) at: <br />\n",
    "https://www.nrel.gov/docs/fy23osti/81819.pdf <br />\n",
    "<br /> \n",
    "The FORCE model is available on GitHub: <br /> \n",
    "https://github.com/NREL/FORCE <br />"
   ]
  },
  {
   "cell_type": "code",
   "execution_count": null,
   "id": "ce439a85",
   "metadata": {},
   "outputs": [],
   "source": [
    "# Import packages\n",
    "import os\n",
    "import numpy as np\n",
    "import pandas as pd\n",
    "import matplotlib.pyplot as plt\n",
    "from FORCE.learning import Regression\n",
    "from FORCE.utils import plot_learning_forecast, calc_curve"
   ]
  },
  {
   "attachments": {},
   "cell_type": "markdown",
   "id": "a861d950",
   "metadata": {},
   "source": [
    "### Simplest Example <br/>\n",
    "Taking data from the Offshore Wind Market Report - 2022 Edition: <br/>\n",
    "https://www.energy.gov/sites/default/files/2022-09/offshore-wind-market-report-2022-v2.pdf <br/>\n",
    "<br/>\n",
    "Cumulative global installed OSW capacity through 2021: 50623 MW <br/>\n",
    "BNEF forecast for 2031: 261,000 MW <br/>\n",
    "4C forecast for 2031: 286,000 MW <br/>\n",
    "2021 mean CapEx: $3400/MWh <br/>\n",
    "Example experience factor: -0.10"
   ]
  },
  {
   "cell_type": "code",
   "execution_count": 34,
   "id": "980cdaa6",
   "metadata": {},
   "outputs": [
    {
     "name": "stdout",
     "output_type": "stream",
     "text": [
      "Learning Rate:  6.696700846319259\n"
     ]
    }
   ],
   "source": [
    "installed = 50623 # Cumulative global installed OSW capacity through 2021\n",
    "bnef_2031 = 261000 # BNEF projection for 2031\n",
    "current_capex = 3400 # Global average in 2021 in $/kW\n",
    "b = -0.1 # Example experience factor\n",
    "\n",
    "LR = 1-2**b\n",
    "print(\"Learning Rate: \", LR*100)"
   ]
  },
  {
   "attachments": {},
   "cell_type": "markdown",
   "id": "cf63f603",
   "metadata": {},
   "source": [
    "The experience factor of -0.1 corresponds to a learning rate of 6.7%:<br/>\n",
    "Learning Rate = 1-2^(experience factor)"
   ]
  },
  {
   "cell_type": "code",
   "execution_count": 42,
   "id": "97513dbb",
   "metadata": {},
   "outputs": [
    {
     "name": "stdout",
     "output_type": "stream",
     "text": [
      "2031 CapEx:  998.1115731200532  $/kW\n",
      "% change:  70.6437772611749\n",
      "0.13276866384327723\n",
      "0.13276866384327735\n"
     ]
    }
   ],
   "source": [
    "upcoming = bnef_2031 - installed\n",
    "C_2031 = current_capex*upcoming**b\n",
    "print(\"2031 CapEx: \", C_2031, \" $/kW\")\n",
    "print(\"% change: \", (current_capex-C_2031)/current_capex*100)\n",
    "print(1-((upcoming)/installed)**b)\n",
    "print(1-((upcoming)**b / installed**b))"
   ]
  },
  {
   "cell_type": "code",
   "execution_count": 46,
   "id": "d86b4184",
   "metadata": {},
   "outputs": [
    {
     "name": "stdout",
     "output_type": "stream",
     "text": [
      "2885.6898651296215\n",
      "0.15126768672658192\n"
     ]
    }
   ],
   "source": [
    "test = current_capex * (bnef_2031/installed)**b\n",
    "print(test)\n",
    "print((current_capex-test)/current_capex)"
   ]
  },
  {
   "cell_type": "code",
   "execution_count": 44,
   "id": "ffa53c54",
   "metadata": {},
   "outputs": [
    {
     "name": "stdout",
     "output_type": "stream",
     "text": [
      "998.1115731200532\n"
     ]
    }
   ],
   "source": [
    "test1 = current_capex * (upcoming)**b\n",
    "print(test1)"
   ]
  },
  {
   "attachments": {},
   "cell_type": "markdown",
   "id": "89ab9ff1",
   "metadata": {},
   "source": [
    "To calculate CapEx in 2031, we use the equation: <br/>\n",
    "C_Q = C_1 * Q^b <br/>\n",
    "where Q is the global cumulative production of the item, <br/>\n",
    "C_1 is the cost of the first unit, <br/>\n",
    "C_Q is the cost of the Qth item, <br/>\n",
    "and b is the experience parameter."
   ]
  },
  {
   "cell_type": "code",
   "execution_count": 38,
   "id": "4abef220",
   "metadata": {},
   "outputs": [
    {
     "name": "stdout",
     "output_type": "stream",
     "text": [
      "[1.11022302e-16 6.22199406e-03 1.20429837e-02 1.75095884e-02\n",
      " 2.26608449e-02 2.75297578e-02 3.21444735e-02 3.65291837e-02\n",
      " 4.07048282e-02 4.46896492e-02 4.84996329e-02 5.21488639e-02\n",
      " 5.56498136e-02 5.90135762e-02 6.22500621e-02 6.53681604e-02\n",
      " 6.83758728e-02 7.12804278e-02 7.40883761e-02 7.68056721e-02\n",
      " 7.94377442e-02 8.19895541e-02 8.44656484e-02 8.68702037e-02\n",
      " 8.92070650e-02 9.14797800e-02 9.36916285e-02 9.58456487e-02\n",
      " 9.79446600e-02 9.99912835e-02 1.01987960e-01 1.03936967e-01\n",
      " 1.05840430e-01 1.07700339e-01 1.09518557e-01 1.11296834e-01\n",
      " 1.13036812e-01 1.14740035e-01 1.16407957e-01 1.18041950e-01\n",
      " 1.19643307e-01 1.21213251e-01 1.22752936e-01 1.24263459e-01\n",
      " 1.25745854e-01 1.27201106e-01 1.28630148e-01 1.30033866e-01\n",
      " 1.31413104e-01 1.32768664e-01]\n"
     ]
    },
    {
     "data": {
      "image/png": "[encoded data removed]",
      "text/plain": [
       "<Figure size 640x480 with 1 Axes>"
      ]
     },
     "metadata": {},
     "output_type": "display_data"
    }
   ],
   "source": [
    "upcoming = bnef_2031 - installed\n",
    "x = np.linspace(installed, upcoming) # Assumes linear deployment trajectory\n",
    "b = -0.10 # \"cumulative capacity fit\" or \"experience factor b\"\n",
    "C0 = 3400 / (installed ** b)\n",
    "y = calc_curve(x, C0, b, capex_0=3400)\n",
    "print(y)\n",
    "plt.plot(x,y*100)\n",
    "plt.xlabel('Deployment, MW')\n",
    "plt.ylabel('Cost Reduction, %')\n",
    "plt.show()"
   ]
  },
  {
   "attachments": {},
   "cell_type": "markdown",
   "id": "cb0f1649",
   "metadata": {},
   "source": [
    "### Obtain a Learning Rate for Fixed-Bottom OSW <br />"
   ]
  },
  {
   "cell_type": "code",
   "execution_count": 19,
   "id": "fc86463f",
   "metadata": {},
   "outputs": [],
   "source": [
    "# 4C Project Database (Paid subscription - Please don't commit data to repository)\n",
    "fp = os.path.join(os.getcwd(), \"data\", \"4Cdb_jan2023_OWMR.csv\") # 2021_OWMR\n",
    "# fp = os.path.join(os.getcwd(), \"data\", \"2021_OWMR.csv\")\n",
    "projects = pd.read_csv(fp, header=2) #, encoding=\"ISO-8859-1\") # encoding may be required for databases that have project names with special characters\n",
    "DIR = \"C:/Users/pduffy/Documents/repos/FORCE/examples/\"\n",
    "FORECAST_FP_FIXED = os.path.join(DIR, \"data\", \"2023_fixed_forecast.csv\")\n",
    "FORECAST_FIXED = pd.read_csv(FORECAST_FP_FIXED).set_index(\"year\").to_dict()[\"simple_avg\"] # mannually re run with different deployments\n",
    "FORECAST_FP_FLOATING = os.path.join(DIR, \"data\", \"2023_floating_forecast.csv\")\n",
    "FORECAST_FLOATING = pd.read_csv(FORECAST_FP_FLOATING).set_index(\"year\").to_dict()[\"simple_avg\"]"
   ]
  },
  {
   "cell_type": "code",
   "execution_count": 20,
   "id": "e0afd798-5bd5-4020-8d81-322a93918d29",
   "metadata": {},
   "outputs": [],
   "source": [
    "filters = {\n",
    "   'Capacity MW (Max)': (149, ),\n",
    "   'Full Commissioning': (2014, 2020),\n",
    "#    'CAPEX_per_kw': (800, 8000.0) # confirm with Matt we should remove\n",
    "}\n",
    "\n",
    "to_aggregate = {\n",
    "    'United Kingdom': 'United Kingdom',\n",
    "    'Germany': 'Germany',\n",
    "    'Netherlands': 'Netherlands',\n",
    "    'Belgium' : 'Belgium',\n",
    "    'China': 'China',\n",
    "    'Denmark': 'Denmark',\n",
    "}\n",
    "\n",
    "fixed_predictors = [\n",
    "            'Country Name',\n",
    "            'Water Depth Max (m)',\n",
    "            # 'Turbine MW (Max)',\n",
    "            'Capacity MW (Max)', # fixed is already commercial so we include this in the list to exclude effects from LR\n",
    "            'Distance From Shore Auto (km)',\n",
    "            ]\n",
    "float_predictors = [\n",
    "            'Country Name',\n",
    "            'Water Depth Max (m)',\n",
    "            # 'Turbine MW (Max)',\n",
    "            'Capacity MW (Max)', # uncomment for ATB: same learning rate, but starting points are different: comment if going from demo to commercial scale\n",
    "            'Distance From Shore Auto (km)',\n",
    "            ]\n",
    "\n"
   ]
  },
  {
   "cell_type": "code",
   "execution_count": 21,
   "id": "d6de86c1",
   "metadata": {},
   "outputs": [],
   "source": [
    "# Def run regression\n",
    "def run_regression(projects, filters, to_aggregate, to_drop, predictors):\n",
    "    \"\"\"\n",
    "    Run FORCE Regression with given settings.\n",
    "\n",
    "    Parameters\n",
    "    ----------\n",
    "    projects : DataFrame\n",
    "    filters : dict\n",
    "    to_aggregate : dict\n",
    "    to_drop : list\n",
    "        List of countries to drop.\n",
    "    \"\"\"\n",
    "\n",
    "    regression = Regression(\n",
    "        projects,\n",
    "        y_var=\"log CAPEX_per_kw\",\n",
    "        filters=filters,\n",
    "        regression_variables=predictors,\n",
    "        aggregate_countries=to_aggregate,\n",
    "        drop_categorical=[\"United Kingdom\"],\n",
    "        drop_country=to_drop,\n",
    "        log_vars=['Cumulative Capacity', 'CAPEX_per_kw'],\n",
    "    )\n",
    "    print(regression.summary)\n",
    "    return regression"
   ]
  },
  {
   "cell_type": "code",
   "execution_count": 22,
   "id": "426b8515",
   "metadata": {},
   "outputs": [
    {
     "name": "stderr",
     "output_type": "stream",
     "text": [
      "C:\\Users\\pduffy\\Documents\\repos\\FORCE\\FORCE\\learning.py:187: FutureWarning: The default value of numeric_only in DataFrameGroupBy.sum is deprecated. In a future version, numeric_only will default to False. Either specify numeric_only or select only columns which should be valid for the function.\n",
      "  yearly = ret.groupby([\"Full Commissioning\"]).sum()[\"Capacity MW (Max)\"]\n",
      "C:\\Users\\pduffy\\Documents\\repos\\FORCE\\FORCE\\learning.py:307: FutureWarning: iteritems is deprecated and will be removed in a future version. Use .items instead.\n",
      "  for name, data in df.iteritems():\n"
     ]
    }
   ],
   "source": [
    "regression = Regression(\n",
    "    projects,\n",
    "    y_var=\"log CAPEX_per_kw\",\n",
    "    filters=filters,\n",
    "    regression_variables=['Country Name', 'Water Depth Max (m)', 'Turbine MW (Max)',  'Capacity MW (Max)', 'Distance From Shore Auto (km)'],\n",
    "    aggregate_countries=to_aggregate,\n",
    "    drop_categorical=[\"United Kingdom\"],\n",
    "#     drop_country=[\"China\"],\n",
    "    log_vars=['Cumulative Capacity', 'CAPEX_per_kw']\n",
    ")"
   ]
  },
  {
   "cell_type": "code",
   "execution_count": 23,
   "id": "9746783f-63b8-48a7-943e-089829c6a0c3",
   "metadata": {},
   "outputs": [
    {
     "name": "stdout",
     "output_type": "stream",
     "text": [
      "Learning rate (%): 5.6000000000000005\n",
      "-0.08242216288714699\n",
      "                            OLS Regression Results                            \n",
      "==============================================================================\n",
      "Dep. Variable:       log CAPEX_per_kw   R-squared:                       0.872\n",
      "Model:                            OLS   Adj. R-squared:                  0.837\n",
      "Method:                 Least Squares   F-statistic:                     25.12\n",
      "Date:                Thu, 09 Mar 2023   Prob (F-statistic):           1.54e-13\n",
      "Time:                        10:27:08   Log-Likelihood:                 34.170\n",
      "No. Observations:                  48   AIC:                            -46.34\n",
      "Df Residuals:                      37   BIC:                            -25.76\n",
      "Df Model:                          10                                         \n",
      "Covariance Type:            nonrobust                                         \n",
      "=================================================================================================\n",
      "                                    coef    std err          t      P>|t|      [0.025      0.975]\n",
      "-------------------------------------------------------------------------------------------------\n",
      "const                             9.5323      0.349     27.286      0.000       8.824      10.240\n",
      "Water Depth Max (m)               0.0036      0.003      1.202      0.237      -0.002       0.010\n",
      "Turbine MW (Max)                 -0.0088      0.016     -0.543      0.590      -0.041       0.024\n",
      "Capacity MW (Max)                -0.0008      0.000     -5.120      0.000      -0.001      -0.000\n",
      "Distance From Shore Auto (km)     0.0023      0.001      2.355      0.024       0.000       0.004\n",
      "Germany                          -0.2247      0.071     -3.180      0.003      -0.368      -0.082\n",
      "China                            -0.7363      0.092     -8.001      0.000      -0.923      -0.550\n",
      "Belgium                          -0.3828      0.097     -3.953      0.000      -0.579      -0.187\n",
      "Netherlands                       0.1815      0.149      1.216      0.232      -0.121       0.484\n",
      "Denmark                          -0.5511      0.153     -3.593      0.001      -0.862      -0.240\n",
      "log Cumulative Capacity          -0.0824      0.046     -1.809      0.079      -0.175       0.010\n",
      "==============================================================================\n",
      "Omnibus:                        0.739   Durbin-Watson:                   2.304\n",
      "Prob(Omnibus):                  0.691   Jarque-Bera (JB):                0.487\n",
      "Skew:                          -0.246   Prob(JB):                        0.784\n",
      "Kurtosis:                       2.970   Cond. No.                     7.29e+03\n",
      "==============================================================================\n",
      "\n",
      "Notes:\n",
      "[1] Standard Errors assume that the covariance matrix of the errors is correctly specified.\n",
      "[2] The condition number is large, 7.29e+03. This might indicate that there are\n",
      "strong multicollinearity or other numerical problems. [320.27613925434554, 3.1817665249370677, 1.9537196712726714, 2.1475064164930737, 2.081891636178084, 3.0715873024824294, 4.591541301225827, 1.442488303179307, 1.1918384730302436, 1.2591799490295417, 1.995349469659134]\n"
     ]
    }
   ],
   "source": [
    "# Display learning rate\n",
    "lr = np.round(regression.learning_rate, 3) * 100\n",
    "print('Learning rate (%):', lr)\n",
    "print(regression.cumulative_capacity_fit)\n",
    "print(regression.summary, regression.vif)"
   ]
  },
  {
   "cell_type": "code",
   "execution_count": null,
   "id": "4476bccc-c662-4ea4-bfd9-1728cdc28613",
   "metadata": {},
   "outputs": [],
   "source": [
    "# Global announced cumulative capacity (per OWMR: 2021 edition)\n",
    "forecast = {\n",
    "#     2013: 6757,\n",
    "#     2014: 7856,\n",
    "#     2015: 11813,\n",
    "#     2016: 13119,\n",
    "#     2017: 16567,\n",
    "#     2018: 21078,\n",
    "#     2019: 27387,\n",
    "#     2020: 32906,\n",
    "#    2021: 51364,\n",
    "    2022: 67032,\n",
    "    2023: 77298,\n",
    "    2024: 92674,\n",
    "    2025: 115594,\n",
    "    2026: 145460,\n",
    "    2027: 167387,\n",
    "    2028: 190860,\n",
    "    2029: 201420,\n",
    "    2030: 228978,\n",
    "    2031: 240348,\n",
    "    2032: 252645,\n",
    "    2033: 260575,\n",
    "    2034: 269220,\n",
    "    2035: 276972\n",
    "}"
   ]
  },
  {
   "cell_type": "code",
   "execution_count": null,
   "id": "99f17814-7ca5-400f-b105-b1e31a09fb9a",
   "metadata": {},
   "outputs": [],
   "source": [
    "axes = plot_learning_forecast(\n",
    "    installed=regression.installed_capacity,\n",
    "    capex=regression.current_capex,\n",
    "    fit=regression.cumulative_capacity_fit,\n",
    "    forecast=forecast,\n",
    "    bse=regression.cumulative_capacity_bse,\n",
    "    data_file=\"projected_capex.csv\",\n",
    "    figsize=(6, 4),\n",
    "    dpi=150\n",
    ")"
   ]
  },
  {
   "cell_type": "code",
   "execution_count": null,
   "id": "00b7b6c2-67a0-40b6-baf6-ab6390cc34d2",
   "metadata": {},
   "outputs": [],
   "source": []
  }
 ],
 "metadata": {
  "kernelspec": {
   "display_name": "force",
   "language": "python",
   "name": "python3"
  },
  "language_info": {
   "codemirror_mode": {
    "name": "ipython",
    "version": 3
   },
   "file_extension": ".py",
   "mimetype": "text/x-python",
   "name": "python",
   "nbconvert_exporter": "python",
   "pygments_lexer": "ipython3",
   "version": "3.9.16"
  },
  "vscode": {
   "interpreter": {
    "hash": "b938cfa5b1847e61df67f58c00e2ecf0b4533355cfc6987f26d359fb75a7e6bf"
   }
  }
 },
 "nbformat": 4,
 "nbformat_minor": 5
}
